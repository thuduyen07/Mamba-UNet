{
 "cells": [
  {
   "cell_type": "code",
   "execution_count": null,
   "metadata": {},
   "outputs": [],
   "source": [
    "import torch\n",
    "\n",
    "import transformers\n",
    "from transformers import AutoTokenizer\n",
    "\n",
    "from mamba_ssm.models.mixer_seq_simple import MambaLMHeadModel\n",
    "\n",
    "from lm_eval.api.model import LM\n",
    "from lm_eval.models.huggingface import HFLM\n",
    "from lm_eval.api.registry import register_model\n",
    "from lm_eval.__main__ import cli_evaluate"
   ]
  },
  {
   "cell_type": "code",
   "execution_count": null,
   "metadata": {},
   "outputs": [],
   "source": [
    "@register_model(\"mamba\")\n",
    "class MambaEvalWrapper(HFLM):\n",
    "\n",
    "    AUTO_MODEL_CLASS = transformers.AutoModelForCausalLM\n",
    "\n",
    "    def __init__(self, pretrained=\"state-spaces/mamba-2.8b\", max_length=2048, batch_size=None, device=\"cuda\",\n",
    "                 dtype=torch.float16):\n",
    "        LM.__init__(self)\n",
    "        self._model = MambaLMHeadModel.from_pretrained(pretrained, device=device, dtype=dtype)\n",
    "        self.tokenizer = AutoTokenizer.from_pretrained(\"EleutherAI/gpt-neox-20b\")\n",
    "        self.tokenizer.pad_token_id = self.tokenizer.eos_token_id\n",
    "        self.vocab_size = self.tokenizer.vocab_size\n",
    "        self._batch_size = batch_size if batch_size is None else 64\n",
    "        self._max_length = max_length\n",
    "        self._device = torch.device(device)\n",
    "\n",
    "    @property\n",
    "    def batch_size(self):\n",
    "        return self._batch_size\n",
    "\n",
    "    def _model_generate(self, context, max_length, stop, **generation_kwargs):\n",
    "        raise NotImplementedError()\n"
   ]
  },
  {
   "cell_type": "code",
   "execution_count": null,
   "metadata": {},
   "outputs": [],
   "source": [
    "if __name__ == \"__main__\":\n",
    "    cli_evaluate()"
   ]
  }
 ],
 "metadata": {
  "language_info": {
   "name": "python"
  }
 },
 "nbformat": 4,
 "nbformat_minor": 2
}
