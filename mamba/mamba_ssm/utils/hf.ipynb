{
 "cells": [
  {
   "cell_type": "code",
   "execution_count": null,
   "metadata": {},
   "outputs": [],
   "source": [
    "import json\n",
    "\n",
    "import torch\n",
    "\n",
    "from transformers.utils import WEIGHTS_NAME, CONFIG_NAME\n",
    "from transformers.utils.hub import cached_file"
   ]
  },
  {
   "cell_type": "code",
   "execution_count": null,
   "metadata": {},
   "outputs": [],
   "source": [
    "def load_config_hf(model_name):\n",
    "    resolved_archive_file = cached_file(model_name, CONFIG_NAME, _raise_exceptions_for_missing_entries=False)\n",
    "    return json.load(open(resolved_archive_file))\n"
   ]
  },
  {
   "cell_type": "code",
   "execution_count": null,
   "metadata": {},
   "outputs": [],
   "source": [
    "def load_state_dict_hf(model_name, device=None, dtype=None):\n",
    "    # If not fp32, then we don't want to load directly to the GPU\n",
    "    mapped_device = \"cpu\" if dtype not in [torch.float32, None] else device\n",
    "    resolved_archive_file = cached_file(model_name, WEIGHTS_NAME, _raise_exceptions_for_missing_entries=False)\n",
    "    return torch.load(resolved_archive_file, map_location=mapped_device)\n",
    "    # Convert dtype before moving to GPU to save memory\n",
    "    if dtype is not None:\n",
    "        state_dict = {k: v.to(dtype=dtype) for k, v in state_dict.items()}\n",
    "    state_dict = {k: v.to(device=device) for k, v in state_dict.items()}\n",
    "    return state_dict\n"
   ]
  }
 ],
 "metadata": {
  "language_info": {
   "name": "python"
  }
 },
 "nbformat": 4,
 "nbformat_minor": 2
}
